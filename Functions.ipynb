{
  "nbformat": 4,
  "nbformat_minor": 0,
  "metadata": {
    "colab": {
      "provenance": []
    },
    "kernelspec": {
      "name": "python3",
      "display_name": "Python 3"
    },
    "language_info": {
      "name": "python"
    }
  },
  "cells": [
    {
      "cell_type": "code",
      "execution_count": null,
      "metadata": {
        "id": "rFTN11PWs-Al"
      },
      "outputs": [],
      "source": []
    },
    {
      "cell_type": "markdown",
      "source": [
        "FUNCTION\n",
        "\n",
        "1.What is the difference between a function and a method in Python?\n",
        "\n",
        "Function:\n",
        "\n",
        "A function is a block of reusable code defined using the def keyword or lambda expression. It exists independently and is not bound to any class or object. Functions can be called directly by their name and may accept arguments and return values.\n",
        "\n",
        "Method:\n",
        "\n",
        "A method is essentially a function that is defined within the body of a class. Unlike a regular function, a method is associated with the objects (instances) of that class. When a method is invoked, the instance itself (commonly referenced as self) is implicitly passed as the first argument, giving the method access to the object’s attributes and other methods.\n",
        "\n",
        "2.Explain the concept of function arguments and parameters in Python.\n",
        "\n",
        "In Python, parameters are variables that are defined inside the parentheses of a function definition, whereas arguments are the actual values or data you pass to those parameters when calling the function.\n",
        "\n",
        "Parameter → acts as a placeholder in the function definition.\n",
        "\n",
        "Argument → is the real value that gets substituted for the parameter when the function is executed.\n",
        "\n",
        "3.What are the different ways to define and call a function in Python?\n",
        "\n",
        "In Python, a function can be defined in several ways, and it can also be called\n",
        "\n",
        "in different styles depending on how its parameters are set up.\n",
        "\n",
        "4.What is the purpose of the return statement in a Python function?\n",
        "\n",
        ".In Python, the return statement is used inside a function to send a value back to the caller.\n",
        "\n",
        "Without return, a function just executes its code and gives back None by default.\n",
        "\n",
        "With return, the function can provide a result that can be stored in a variable, used in calculations, or passed to another function.\n",
        "\n",
        "5.What are iterators in Python and how do they differ from iterables?\n",
        "\n",
        ".Iterable\n",
        "\n",
        "An iterable is any Python object capable of returning its elements one at a time.\n",
        "\n",
        "Examples: lists, tuples, strings, sets, dictionaries.\n",
        "\n",
        "You can pass them to iter() to get an iterator.\n",
        "\n",
        "Iterator\n",
        "\n",
        "An iterator is an object that represents a stream of data.\n",
        "\n",
        "It remembers its current position and gives you the next element when you call next().\n",
        "\n",
        "It must implement two methods:\n",
        "\n",
        "iter() → returns the iterator object itself.\n",
        "\n",
        "next() → returns the next value or raises StopIteration when done.\n",
        "\n",
        "Iterable = a collection you can loop through Iterator = the actual looping tool that remembers the current spot\n",
        "\n",
        "6.Explain the concept of generators in Python and how they are defined.\n",
        "\n",
        ".A generator in Python is a special type of iterator that allows you to generate values on the fly instead of storing them all in memory.\n",
        "\n",
        "Defined using a function with the yield keyword.\n",
        "\n",
        "Each time the generator’s next() is called, execution resumes right after the last yield.\n",
        "\n",
        "More memory-efficient than creating a list of values because it produces one item at a time.\n",
        "\n",
        "7.What are the advantages of using generators over regular functions?\n",
        "\n",
        ".Advantages of Generators\n",
        "\n",
        "Memory Efficiency\n",
        "\n",
        "Generators don’t store all results in memory at once.\n",
        "\n",
        "They yield items one at a time, which is useful for large datasets or infinite streams.\n",
        "\n",
        "Lazy Evaluation\n",
        "\n",
        "Values are computed only when needed, not upfront.\n",
        "\n",
        "This improves performance if you don’t actually need all the results.\n",
        "\n",
        "Infinite Sequences\n",
        "\n",
        "You can model endless streams of data (like sensor readings or logs).\n",
        "\n",
        "Improved Performance with Large Data\n",
        "\n",
        "Faster startup time because values aren’t precomputed.\n",
        "\n",
        "Cleaner Code\n",
        "\n",
        "Generators simplify writing custom iterators — no need to implement iter() and next(). Just use yield.\n",
        "\n",
        "Pipeline Processing\n",
        "\n",
        "Generators can be chained together like pipes, making code modular and efficient.\n",
        "\n",
        "8.What is a lambda function in Python and when is it typically used?\n",
        "\n",
        ".A lambda function in Python is a small, anonymous function defined with the lambda keyword instead of def.\n",
        "Syntax:\n",
        "\n",
        "lambda arguments: expression\n",
        "\n",
        "9.Explain the purpose and usage of the map() function in Python.\n",
        "\n",
        ".The map() function in Python is used to apply a function to every item in an iterable (like a list, tuple, etc.) and returns a map object (iterator) with the results.\n",
        "Syntax:\n",
        "\n",
        "map(function, iterable, ...)\n",
        "\n",
        "10.What is the difference between map(), reduce(), and filter() functions in Python?\n",
        "\n",
        "map()\n",
        "\n",
        "Purpose: Applies a function to every element in an iterable (like a list, tuple, etc.).\n",
        "\n",
        "Output: Returns a new iterable (map object) with the transformed values.\n",
        "\n",
        "filter()\n",
        "\n",
        "Purpose: Selects elements from an iterable based on a condition (predicate function).\n",
        "\n",
        "Output: Returns only those items for which the function returns True.\n",
        "\n",
        "reduce()\n",
        "\n",
        "Purpose: Repeatedly applies a function to pairs of elements, reducing the iterable to a single cumulative value.\n",
        "\n",
        "Output: A single value (not a list).\n",
        "\n",
        "Note: reduce() is not a built-in in Python 3; it’s available in functools.\n",
        "\n",
        "\n",
        "\n",
        "\n",
        "\n",
        "\n"
      ],
      "metadata": {
        "id": "Mh-45xWntFgz"
      }
    },
    {
      "cell_type": "code",
      "source": [
        "#Basic function definition and call\n",
        "def greet():\n",
        "    print(\"Hello, World!\")\n",
        "\n",
        "greet()   # simple call\n"
      ],
      "metadata": {
        "colab": {
          "base_uri": "https://localhost:8080/"
        },
        "id": "NQ4zZwTjtpIg",
        "outputId": "fd61d2e3-aecc-4b53-8cad-57b75f65f719"
      },
      "execution_count": null,
      "outputs": [
        {
          "output_type": "stream",
          "name": "stdout",
          "text": [
            "Hello, World!\n"
          ]
        }
      ]
    },
    {
      "cell_type": "code",
      "source": [
        "#Function with parameters\n",
        "def greet(name):\n",
        "    print(\"Hello,\", name)\n",
        "\n",
        "greet(\"Nick\")    # passing argument\n"
      ],
      "metadata": {
        "colab": {
          "base_uri": "https://localhost:8080/"
        },
        "id": "mI2hCK9NwCGu",
        "outputId": "8d675904-3053-4b72-8562-4d5cfa9c59d0"
      },
      "execution_count": null,
      "outputs": [
        {
          "output_type": "stream",
          "name": "stdout",
          "text": [
            "Hello, Nick\n"
          ]
        }
      ]
    },
    {
      "cell_type": "code",
      "source": [
        "#Function with default parameters\n",
        "def greet(name=\"Guest\"):\n",
        "    print(\"Hello,\", name)\n",
        "\n",
        "greet()           # uses default → \"Guest\"\n",
        "greet(\"Rose\")      # overrides default\n"
      ],
      "metadata": {
        "colab": {
          "base_uri": "https://localhost:8080/"
        },
        "id": "ucPsFbLbwJRK",
        "outputId": "eee77bb0-36bc-449a-9331-8477efe3338e"
      },
      "execution_count": null,
      "outputs": [
        {
          "output_type": "stream",
          "name": "stdout",
          "text": [
            "Hello, Guest\n",
            "Hello, Rose\n"
          ]
        }
      ]
    },
    {
      "cell_type": "code",
      "source": [
        "#Function with keyword arguments\n",
        "def introduce(name, age):\n",
        "    print(f\"My name is {name}, and I'm {age} years old.\")\n",
        "\n",
        "introduce(age=25, name=\"Alice\")   # order doesn’t matter with keywords\n",
        "\n"
      ],
      "metadata": {
        "colab": {
          "base_uri": "https://localhost:8080/"
        },
        "id": "0FDJN_BPwRIf",
        "outputId": "9d1bd71f-1a61-43ad-d320-1d7d5983844f"
      },
      "execution_count": null,
      "outputs": [
        {
          "output_type": "stream",
          "name": "stdout",
          "text": [
            "My name is Alice, and I'm 25 years old.\n"
          ]
        }
      ]
    },
    {
      "cell_type": "code",
      "source": [
        "#Function with variable-length arguments\n",
        "def add(*numbers):\n",
        "    return sum(numbers)\n",
        "\n",
        "print(add(1, 2, 3, 4))   # 10\n",
        "\n"
      ],
      "metadata": {
        "colab": {
          "base_uri": "https://localhost:8080/"
        },
        "id": "-B1quHEFwUxZ",
        "outputId": "9edb2f4e-3028-400e-988a-ed3df47ff04e"
      },
      "execution_count": null,
      "outputs": [
        {
          "output_type": "stream",
          "name": "stdout",
          "text": [
            "10\n"
          ]
        }
      ]
    },
    {
      "cell_type": "code",
      "source": [
        "#**kwargs → multiple keyword arguments\n",
        "def show_details(**info):\n",
        "    for key, value in info.items():\n",
        "        print(f\"{key}: {value}\")\n",
        "\n",
        "show_details(name=\"Jara\", age=22, city=\"Paris\")\n",
        "\n"
      ],
      "metadata": {
        "colab": {
          "base_uri": "https://localhost:8080/"
        },
        "id": "XGPUwTJVwYET",
        "outputId": "36798f78-d1b6-49f2-8559-32d148075964"
      },
      "execution_count": null,
      "outputs": [
        {
          "output_type": "stream",
          "name": "stdout",
          "text": [
            "name: Jara\n",
            "age: 22\n",
            "city: Paris\n"
          ]
        }
      ]
    },
    {
      "cell_type": "code",
      "source": [
        "#Lambda (anonymous) functions\n",
        "square = lambda x: x * x\n",
        "print(square(5))   # 25\n",
        "\n",
        "\n"
      ],
      "metadata": {
        "colab": {
          "base_uri": "https://localhost:8080/"
        },
        "id": "m12Pnp27wdV7",
        "outputId": "5601a7d1-c866-44d5-cdaf-1aa232e1762d"
      },
      "execution_count": null,
      "outputs": [
        {
          "output_type": "stream",
          "name": "stdout",
          "text": [
            "25\n"
          ]
        }
      ]
    },
    {
      "cell_type": "code",
      "source": [
        "#Functions inside functions (nested functions)\n",
        "def outer():\n",
        "    def inner():\n",
        "        print(\"Inside inner function\")\n",
        "    inner()\n",
        "\n",
        "outer()\n"
      ],
      "metadata": {
        "colab": {
          "base_uri": "https://localhost:8080/"
        },
        "id": "TXNRhJc1wmhM",
        "outputId": "9e6b785d-9895-4763-a15f-d9ba26112f53"
      },
      "execution_count": null,
      "outputs": [
        {
          "output_type": "stream",
          "name": "stdout",
          "text": [
            "Inside inner function\n"
          ]
        }
      ]
    },
    {
      "cell_type": "code",
      "source": [
        "#Calling functions using unpacking\n",
        "def multiply(a, b, c):\n",
        "    return a * b * c\n",
        "\n",
        "nums = [2, 3, 4]\n",
        "print(multiply(*nums))   # unpacks list → multiply(2,3,4)\n",
        "\n"
      ],
      "metadata": {
        "colab": {
          "base_uri": "https://localhost:8080/"
        },
        "id": "_FRhclMqwrLZ",
        "outputId": "141e4e0f-d786-431f-b319-a0de8d64379d"
      },
      "execution_count": null,
      "outputs": [
        {
          "output_type": "stream",
          "name": "stdout",
          "text": [
            "24\n"
          ]
        }
      ]
    },
    {
      "cell_type": "code",
      "source": [
        "my_list = [1, 2, 3]\n",
        "for item in my_list:   # list is an iterable\n",
        "    print(item)\n"
      ],
      "metadata": {
        "colab": {
          "base_uri": "https://localhost:8080/"
        },
        "id": "gY3uvKaYwwos",
        "outputId": "312686e4-61f2-4120-c4c7-594d3d27f39b"
      },
      "execution_count": null,
      "outputs": [
        {
          "output_type": "stream",
          "name": "stdout",
          "text": [
            "1\n",
            "2\n",
            "3\n"
          ]
        }
      ]
    },
    {
      "cell_type": "code",
      "source": [
        "my_list = [1, 2, 3]\n",
        "it = iter(my_list)   # create an iterator from iterable\n",
        "\n",
        "print(next(it))  # 1\n",
        "print(next(it))  # 2\n",
        "print(next(it))  # 3\n",
        "# next(it) would raise StopIteration\n"
      ],
      "metadata": {
        "colab": {
          "base_uri": "https://localhost:8080/"
        },
        "id": "4roHfi9JxFye",
        "outputId": "c4b6bb38-53e8-4590-95b9-f8f1ba984f41"
      },
      "execution_count": null,
      "outputs": [
        {
          "output_type": "stream",
          "name": "stdout",
          "text": [
            "1\n",
            "2\n",
            "3\n"
          ]
        }
      ]
    },
    {
      "cell_type": "markdown",
      "source": [
        "11.Using pen & Paper write the internal mechanism for sum operation using reduce function on this given list:[47,11,42,13];\n",
        "\n"
      ],
      "metadata": {
        "id": "wQniiGjqetXh"
      }
    },
    {
      "cell_type": "code",
      "source": [],
      "metadata": {
        "id": "YqhFz559xJZ5"
      },
      "execution_count": null,
      "outputs": []
    },
    {
      "cell_type": "code",
      "source": [
        "from google.colab import files\n",
        "from IPython.display import Image\n",
        "\n",
        "uploaded = files.upload()\n",
        "\n",
        "for filename in uploaded.keys():\n",
        "  display(Image(filename))"
      ],
      "metadata": {
        "colab": {
          "base_uri": "https://localhost:8080/",
          "height": 360
        },
        "id": "jwDxXL8HGfol",
        "outputId": "49f5cbf6-4a4e-4895-d76a-6b6ead78197c"
      },
      "execution_count": null,
      "outputs": [
        {
          "output_type": "display_data",
          "data": {
            "text/plain": [
              "<IPython.core.display.HTML object>"
            ],
            "text/html": [
              "\n",
              "     <input type=\"file\" id=\"files-cc04f9e6-89ef-4398-8c0a-d47390529804\" name=\"files[]\" multiple disabled\n",
              "        style=\"border:none\" />\n",
              "     <output id=\"result-cc04f9e6-89ef-4398-8c0a-d47390529804\">\n",
              "      Upload widget is only available when the cell has been executed in the\n",
              "      current browser session. Please rerun this cell to enable.\n",
              "      </output>\n",
              "      <script>// Copyright 2017 Google LLC\n",
              "//\n",
              "// Licensed under the Apache License, Version 2.0 (the \"License\");\n",
              "// you may not use this file except in compliance with the License.\n",
              "// You may obtain a copy of the License at\n",
              "//\n",
              "//      http://www.apache.org/licenses/LICENSE-2.0\n",
              "//\n",
              "// Unless required by applicable law or agreed to in writing, software\n",
              "// distributed under the License is distributed on an \"AS IS\" BASIS,\n",
              "// WITHOUT WARRANTIES OR CONDITIONS OF ANY KIND, either express or implied.\n",
              "// See the License for the specific language governing permissions and\n",
              "// limitations under the License.\n",
              "\n",
              "/**\n",
              " * @fileoverview Helpers for google.colab Python module.\n",
              " */\n",
              "(function(scope) {\n",
              "function span(text, styleAttributes = {}) {\n",
              "  const element = document.createElement('span');\n",
              "  element.textContent = text;\n",
              "  for (const key of Object.keys(styleAttributes)) {\n",
              "    element.style[key] = styleAttributes[key];\n",
              "  }\n",
              "  return element;\n",
              "}\n",
              "\n",
              "// Max number of bytes which will be uploaded at a time.\n",
              "const MAX_PAYLOAD_SIZE = 100 * 1024;\n",
              "\n",
              "function _uploadFiles(inputId, outputId) {\n",
              "  const steps = uploadFilesStep(inputId, outputId);\n",
              "  const outputElement = document.getElementById(outputId);\n",
              "  // Cache steps on the outputElement to make it available for the next call\n",
              "  // to uploadFilesContinue from Python.\n",
              "  outputElement.steps = steps;\n",
              "\n",
              "  return _uploadFilesContinue(outputId);\n",
              "}\n",
              "\n",
              "// This is roughly an async generator (not supported in the browser yet),\n",
              "// where there are multiple asynchronous steps and the Python side is going\n",
              "// to poll for completion of each step.\n",
              "// This uses a Promise to block the python side on completion of each step,\n",
              "// then passes the result of the previous step as the input to the next step.\n",
              "function _uploadFilesContinue(outputId) {\n",
              "  const outputElement = document.getElementById(outputId);\n",
              "  const steps = outputElement.steps;\n",
              "\n",
              "  const next = steps.next(outputElement.lastPromiseValue);\n",
              "  return Promise.resolve(next.value.promise).then((value) => {\n",
              "    // Cache the last promise value to make it available to the next\n",
              "    // step of the generator.\n",
              "    outputElement.lastPromiseValue = value;\n",
              "    return next.value.response;\n",
              "  });\n",
              "}\n",
              "\n",
              "/**\n",
              " * Generator function which is called between each async step of the upload\n",
              " * process.\n",
              " * @param {string} inputId Element ID of the input file picker element.\n",
              " * @param {string} outputId Element ID of the output display.\n",
              " * @return {!Iterable<!Object>} Iterable of next steps.\n",
              " */\n",
              "function* uploadFilesStep(inputId, outputId) {\n",
              "  const inputElement = document.getElementById(inputId);\n",
              "  inputElement.disabled = false;\n",
              "\n",
              "  const outputElement = document.getElementById(outputId);\n",
              "  outputElement.innerHTML = '';\n",
              "\n",
              "  const pickedPromise = new Promise((resolve) => {\n",
              "    inputElement.addEventListener('change', (e) => {\n",
              "      resolve(e.target.files);\n",
              "    });\n",
              "  });\n",
              "\n",
              "  const cancel = document.createElement('button');\n",
              "  inputElement.parentElement.appendChild(cancel);\n",
              "  cancel.textContent = 'Cancel upload';\n",
              "  const cancelPromise = new Promise((resolve) => {\n",
              "    cancel.onclick = () => {\n",
              "      resolve(null);\n",
              "    };\n",
              "  });\n",
              "\n",
              "  // Wait for the user to pick the files.\n",
              "  const files = yield {\n",
              "    promise: Promise.race([pickedPromise, cancelPromise]),\n",
              "    response: {\n",
              "      action: 'starting',\n",
              "    }\n",
              "  };\n",
              "\n",
              "  cancel.remove();\n",
              "\n",
              "  // Disable the input element since further picks are not allowed.\n",
              "  inputElement.disabled = true;\n",
              "\n",
              "  if (!files) {\n",
              "    return {\n",
              "      response: {\n",
              "        action: 'complete',\n",
              "      }\n",
              "    };\n",
              "  }\n",
              "\n",
              "  for (const file of files) {\n",
              "    const li = document.createElement('li');\n",
              "    li.append(span(file.name, {fontWeight: 'bold'}));\n",
              "    li.append(span(\n",
              "        `(${file.type || 'n/a'}) - ${file.size} bytes, ` +\n",
              "        `last modified: ${\n",
              "            file.lastModifiedDate ? file.lastModifiedDate.toLocaleDateString() :\n",
              "                                    'n/a'} - `));\n",
              "    const percent = span('0% done');\n",
              "    li.appendChild(percent);\n",
              "\n",
              "    outputElement.appendChild(li);\n",
              "\n",
              "    const fileDataPromise = new Promise((resolve) => {\n",
              "      const reader = new FileReader();\n",
              "      reader.onload = (e) => {\n",
              "        resolve(e.target.result);\n",
              "      };\n",
              "      reader.readAsArrayBuffer(file);\n",
              "    });\n",
              "    // Wait for the data to be ready.\n",
              "    let fileData = yield {\n",
              "      promise: fileDataPromise,\n",
              "      response: {\n",
              "        action: 'continue',\n",
              "      }\n",
              "    };\n",
              "\n",
              "    // Use a chunked sending to avoid message size limits. See b/62115660.\n",
              "    let position = 0;\n",
              "    do {\n",
              "      const length = Math.min(fileData.byteLength - position, MAX_PAYLOAD_SIZE);\n",
              "      const chunk = new Uint8Array(fileData, position, length);\n",
              "      position += length;\n",
              "\n",
              "      const base64 = btoa(String.fromCharCode.apply(null, chunk));\n",
              "      yield {\n",
              "        response: {\n",
              "          action: 'append',\n",
              "          file: file.name,\n",
              "          data: base64,\n",
              "        },\n",
              "      };\n",
              "\n",
              "      let percentDone = fileData.byteLength === 0 ?\n",
              "          100 :\n",
              "          Math.round((position / fileData.byteLength) * 100);\n",
              "      percent.textContent = `${percentDone}% done`;\n",
              "\n",
              "    } while (position < fileData.byteLength);\n",
              "  }\n",
              "\n",
              "  // All done.\n",
              "  yield {\n",
              "    response: {\n",
              "      action: 'complete',\n",
              "    }\n",
              "  };\n",
              "}\n",
              "\n",
              "scope.google = scope.google || {};\n",
              "scope.google.colab = scope.google.colab || {};\n",
              "scope.google.colab._files = {\n",
              "  _uploadFiles,\n",
              "  _uploadFilesContinue,\n",
              "};\n",
              "})(self);\n",
              "</script> "
            ]
          },
          "metadata": {}
        },
        {
          "output_type": "stream",
          "name": "stdout",
          "text": [
            "Saving paste.png to paste (1).png\n"
          ]
        },
        {
          "output_type": "display_data",
          "data": {
            "image/png": "[encoded data removed]",
            "text/plain": [
              "<IPython.core.display.Image object>"
            ]
          },
          "metadata": {}
        }
      ]
    },
    {
      "cell_type": "markdown",
      "source": [
        "PRACTICAL QUESIONS:"
      ],
      "metadata": {
        "id": "8ITfBXnJxoV1"
      }
    },
    {
      "cell_type": "code",
      "source": [
        "#1.Write a Python function that takes a list of numbers as input and returns the sum of all even numbers in\n",
        "#the list.\n",
        "\n",
        "def sum_of_evens(numbers):\n",
        "    \"\"\"\n",
        "    Returns the sum of all even numbers in a list.\n",
        "\n",
        "    :param numbers: list of integers\n",
        "    :return: integer sum of even numbers\n",
        "    \"\"\"\n",
        "    return sum(num for num in numbers if num % 2 == 0)\n",
        "\n",
        "\n",
        "\n",
        "my_list = [1, 2, 3, 4, 5, 6]\n",
        "print(sum_of_evens(my_list))\n"
      ],
      "metadata": {
        "colab": {
          "base_uri": "https://localhost:8080/"
        },
        "id": "Nz32kCm8xx8a",
        "outputId": "2d34fe96-ff06-449b-a28a-44e6fc2a3550"
      },
      "execution_count": null,
      "outputs": [
        {
          "output_type": "stream",
          "name": "stdout",
          "text": [
            "12\n"
          ]
        }
      ]
    },
    {
      "cell_type": "code",
      "source": [
        "#2.Create a Python function that accepts a string and returns the reverse of that string.\n",
        "\n",
        "def reverse_string(text):\n",
        "    \"\"\"\n",
        "    Returns the reverse of the given string.\n",
        "\n",
        "    :param text: string\n",
        "    :return: reversed string\n",
        "    \"\"\"\n",
        "    return text[::-1]\n",
        "\n",
        "\n",
        "# Example usage\n",
        "print(reverse_string(\"hello\"))\n",
        "print(reverse_string(\"Python\"))\n",
        "\n"
      ],
      "metadata": {
        "colab": {
          "base_uri": "https://localhost:8080/"
        },
        "id": "5JUolt6Zxzck",
        "outputId": "6c0df3dd-0f32-4a6b-e54b-05c1d3884eaa"
      },
      "execution_count": null,
      "outputs": [
        {
          "output_type": "stream",
          "name": "stdout",
          "text": [
            "olleh\n",
            "nohtyP\n"
          ]
        }
      ]
    },
    {
      "cell_type": "code",
      "source": [
        "#3. Implement a Python function that takes a list of integers and returns a new list containing the squares of\n",
        "#each number.\n",
        "\n",
        "\n",
        "def square_list(numbers):\n",
        "    \"\"\"\n",
        "    Returns a new list containing the squares of each number.\n",
        "    \"\"\"\n",
        "    result = []\n",
        "    for num in numbers:\n",
        "        result.append(num * num)   # square of the number\n",
        "    return result\n",
        "\n",
        "\n",
        "\n",
        "nums = [1, 2, 3, 4, 5]\n",
        "print(square_list(nums))\n",
        "\n",
        "\n"
      ],
      "metadata": {
        "colab": {
          "base_uri": "https://localhost:8080/"
        },
        "id": "GCaWaZ9MyFa1",
        "outputId": "133ac03e-e721-4b0d-ec64-ca700e8e79e2"
      },
      "execution_count": null,
      "outputs": [
        {
          "output_type": "stream",
          "name": "stdout",
          "text": [
            "[1, 4, 9, 16, 25]\n"
          ]
        }
      ]
    },
    {
      "cell_type": "code",
      "source": [
        "#4.Write a Python function that checks if a given number is prime or not from 1 to 200.\n",
        "\n",
        "def is_prime(n):\n",
        "    \"\"\"\n",
        "    Checks if a number is prime.\n",
        "    \"\"\"\n",
        "    if n < 2:  # 0 and 1 are not prime\n",
        "        return False\n",
        "    for i in range(2, int(n**0.5) + 1):\n",
        "        if n % i == 0:\n",
        "            return False\n",
        "    return True\n",
        "\n",
        "\n",
        "# check prime numbers from 1 to 200\n",
        "for num in range(1, 201):\n",
        "    if is_prime(num):\n",
        "        print(num, \"is Prime\")\n",
        "    else:\n",
        "        print(num, \"is Not Prime\")\n",
        "\n"
      ],
      "metadata": {
        "colab": {
          "base_uri": "https://localhost:8080/"
        },
        "id": "Y5bRnLSPyL_Y",
        "outputId": "df2c4368-b667-468f-ef2b-abdb14ddb424"
      },
      "execution_count": null,
      "outputs": [
        {
          "output_type": "stream",
          "name": "stdout",
          "text": [
            "1 is Not Prime\n",
            "2 is Prime\n",
            "3 is Prime\n",
            "4 is Not Prime\n",
            "5 is Prime\n",
            "6 is Not Prime\n",
            "7 is Prime\n",
            "8 is Not Prime\n",
            "9 is Not Prime\n",
            "10 is Not Prime\n",
            "11 is Prime\n",
            "12 is Not Prime\n",
            "13 is Prime\n",
            "14 is Not Prime\n",
            "15 is Not Prime\n",
            "16 is Not Prime\n",
            "17 is Prime\n",
            "18 is Not Prime\n",
            "19 is Prime\n",
            "20 is Not Prime\n",
            "21 is Not Prime\n",
            "22 is Not Prime\n",
            "23 is Prime\n",
            "24 is Not Prime\n",
            "25 is Not Prime\n",
            "26 is Not Prime\n",
            "27 is Not Prime\n",
            "28 is Not Prime\n",
            "29 is Prime\n",
            "30 is Not Prime\n",
            "31 is Prime\n",
            "32 is Not Prime\n",
            "33 is Not Prime\n",
            "34 is Not Prime\n",
            "35 is Not Prime\n",
            "36 is Not Prime\n",
            "37 is Prime\n",
            "38 is Not Prime\n",
            "39 is Not Prime\n",
            "40 is Not Prime\n",
            "41 is Prime\n",
            "42 is Not Prime\n",
            "43 is Prime\n",
            "44 is Not Prime\n",
            "45 is Not Prime\n",
            "46 is Not Prime\n",
            "47 is Prime\n",
            "48 is Not Prime\n",
            "49 is Not Prime\n",
            "50 is Not Prime\n",
            "51 is Not Prime\n",
            "52 is Not Prime\n",
            "53 is Prime\n",
            "54 is Not Prime\n",
            "55 is Not Prime\n",
            "56 is Not Prime\n",
            "57 is Not Prime\n",
            "58 is Not Prime\n",
            "59 is Prime\n",
            "60 is Not Prime\n",
            "61 is Prime\n",
            "62 is Not Prime\n",
            "63 is Not Prime\n",
            "64 is Not Prime\n",
            "65 is Not Prime\n",
            "66 is Not Prime\n",
            "67 is Prime\n",
            "68 is Not Prime\n",
            "69 is Not Prime\n",
            "70 is Not Prime\n",
            "71 is Prime\n",
            "72 is Not Prime\n",
            "73 is Prime\n",
            "74 is Not Prime\n",
            "75 is Not Prime\n",
            "76 is Not Prime\n",
            "77 is Not Prime\n",
            "78 is Not Prime\n",
            "79 is Prime\n",
            "80 is Not Prime\n",
            "81 is Not Prime\n",
            "82 is Not Prime\n",
            "83 is Prime\n",
            "84 is Not Prime\n",
            "85 is Not Prime\n",
            "86 is Not Prime\n",
            "87 is Not Prime\n",
            "88 is Not Prime\n",
            "89 is Prime\n",
            "90 is Not Prime\n",
            "91 is Not Prime\n",
            "92 is Not Prime\n",
            "93 is Not Prime\n",
            "94 is Not Prime\n",
            "95 is Not Prime\n",
            "96 is Not Prime\n",
            "97 is Prime\n",
            "98 is Not Prime\n",
            "99 is Not Prime\n",
            "100 is Not Prime\n",
            "101 is Prime\n",
            "102 is Not Prime\n",
            "103 is Prime\n",
            "104 is Not Prime\n",
            "105 is Not Prime\n",
            "106 is Not Prime\n",
            "107 is Prime\n",
            "108 is Not Prime\n",
            "109 is Prime\n",
            "110 is Not Prime\n",
            "111 is Not Prime\n",
            "112 is Not Prime\n",
            "113 is Prime\n",
            "114 is Not Prime\n",
            "115 is Not Prime\n",
            "116 is Not Prime\n",
            "117 is Not Prime\n",
            "118 is Not Prime\n",
            "119 is Not Prime\n",
            "120 is Not Prime\n",
            "121 is Not Prime\n",
            "122 is Not Prime\n",
            "123 is Not Prime\n",
            "124 is Not Prime\n",
            "125 is Not Prime\n",
            "126 is Not Prime\n",
            "127 is Prime\n",
            "128 is Not Prime\n",
            "129 is Not Prime\n",
            "130 is Not Prime\n",
            "131 is Prime\n",
            "132 is Not Prime\n",
            "133 is Not Prime\n",
            "134 is Not Prime\n",
            "135 is Not Prime\n",
            "136 is Not Prime\n",
            "137 is Prime\n",
            "138 is Not Prime\n",
            "139 is Prime\n",
            "140 is Not Prime\n",
            "141 is Not Prime\n",
            "142 is Not Prime\n",
            "143 is Not Prime\n",
            "144 is Not Prime\n",
            "145 is Not Prime\n",
            "146 is Not Prime\n",
            "147 is Not Prime\n",
            "148 is Not Prime\n",
            "149 is Prime\n",
            "150 is Not Prime\n",
            "151 is Prime\n",
            "152 is Not Prime\n",
            "153 is Not Prime\n",
            "154 is Not Prime\n",
            "155 is Not Prime\n",
            "156 is Not Prime\n",
            "157 is Prime\n",
            "158 is Not Prime\n",
            "159 is Not Prime\n",
            "160 is Not Prime\n",
            "161 is Not Prime\n",
            "162 is Not Prime\n",
            "163 is Prime\n",
            "164 is Not Prime\n",
            "165 is Not Prime\n",
            "166 is Not Prime\n",
            "167 is Prime\n",
            "168 is Not Prime\n",
            "169 is Not Prime\n",
            "170 is Not Prime\n",
            "171 is Not Prime\n",
            "172 is Not Prime\n",
            "173 is Prime\n",
            "174 is Not Prime\n",
            "175 is Not Prime\n",
            "176 is Not Prime\n",
            "177 is Not Prime\n",
            "178 is Not Prime\n",
            "179 is Prime\n",
            "180 is Not Prime\n",
            "181 is Prime\n",
            "182 is Not Prime\n",
            "183 is Not Prime\n",
            "184 is Not Prime\n",
            "185 is Not Prime\n",
            "186 is Not Prime\n",
            "187 is Not Prime\n",
            "188 is Not Prime\n",
            "189 is Not Prime\n",
            "190 is Not Prime\n",
            "191 is Prime\n",
            "192 is Not Prime\n",
            "193 is Prime\n",
            "194 is Not Prime\n",
            "195 is Not Prime\n",
            "196 is Not Prime\n",
            "197 is Prime\n",
            "198 is Not Prime\n",
            "199 is Prime\n",
            "200 is Not Prime\n"
          ]
        }
      ]
    },
    {
      "cell_type": "code",
      "source": [
        "#5.Create an iterator class in Python that generates the Fibonacci sequence up to a specified number of\n",
        "#terms.\n",
        "\n",
        "class Fibonacci:\n",
        "    def __init__(self, n):\n",
        "        self.n = n      # number of terms\n",
        "        self.a, self.b = 0, 1\n",
        "        self.count = 0\n",
        "\n",
        "    def __iter__(self):\n",
        "        return self\n",
        "\n",
        "    def __next__(self):\n",
        "        if self.count >= self.n:\n",
        "            raise StopIteration\n",
        "        result = self.a\n",
        "        self.a, self.b = self.b, self.a + self.b\n",
        "        self.count += 1\n",
        "        return result\n",
        "\n",
        "\n",
        "#first 10 Fibonacci numbers\n",
        "for num in Fibonacci(10):\n",
        "    print(num, end=\" \")\n",
        "\n"
      ],
      "metadata": {
        "colab": {
          "base_uri": "https://localhost:8080/"
        },
        "id": "mZ43MFH-yQZ0",
        "outputId": "45293cc4-e8b3-420e-900b-c5aede987f27"
      },
      "execution_count": null,
      "outputs": [
        {
          "output_type": "stream",
          "name": "stdout",
          "text": [
            "0 1 1 2 3 5 8 13 21 34 "
          ]
        }
      ]
    },
    {
      "cell_type": "code",
      "source": [
        "#6.Write a generator function in Python that yields the powers of 2 up to a given exponent.\n",
        "\n",
        "def powers_of_two(limit):\n",
        "    \"\"\"\n",
        "    Yields powers of 2 from 2^0 up to 2^limit.\n",
        "    \"\"\"\n",
        "    for exp in range(limit + 1):\n",
        "        yield 2 ** exp\n",
        "\n",
        "for val in powers_of_two(5):\n",
        "    print(val, end=\" \")\n",
        "\n"
      ],
      "metadata": {
        "colab": {
          "base_uri": "https://localhost:8080/"
        },
        "id": "q7zz9MU6yYkF",
        "outputId": "1d2900f6-954c-4618-81ba-c16d585c2e77"
      },
      "execution_count": null,
      "outputs": [
        {
          "output_type": "stream",
          "name": "stdout",
          "text": [
            "1 2 4 8 16 32 "
          ]
        }
      ]
    },
    {
      "cell_type": "code",
      "source": [
        "#7. Implement a generator function that reads a file line by line and yields each line as a string.\n",
        "\n",
        "# Step 1:\n",
        "file_path = r\"C:\\Users\\mahap\\Downloads\\example.txt\"\n",
        "\n",
        "with open(file_path, \"w\") as f:\n",
        "    f.write(\"Namaste\\n\")\n",
        "    f.write(\"Mera naam NM hai\\n\")\n",
        "    f.write(\"This Is The test file \\n\")\n",
        "    f.write(\"Python is very easy \\n\")\n",
        "\n",
        "print(\"File create ho gayi:\", file_path)\n",
        "\n",
        "\n",
        "# Step 2:\n",
        "def read_file_lines(filename):\n",
        "    for line in open(filename, \"r\"):\n",
        "        yield line.strip()\n",
        "\n",
        "print(\"\\nFile ka content:\")\n",
        "for line in read_file_lines(file_path):\n",
        "    print(line)\n"
      ],
      "metadata": {
        "colab": {
          "base_uri": "https://localhost:8080/"
        },
        "id": "zyJZDTbOydbd",
        "outputId": "be3586cb-e43f-4a85-c11d-eaeccbc39d2a"
      },
      "execution_count": null,
      "outputs": [
        {
          "output_type": "stream",
          "name": "stdout",
          "text": [
            "File create ho gayi: C:\\Users\\mahap\\Downloads\\example.txt\n",
            "\n",
            "File ka content:\n",
            "Namaste\n",
            "Mera naam NM hai\n",
            "This Is The test file\n",
            "Python is very easy\n"
          ]
        }
      ]
    },
    {
      "cell_type": "code",
      "source": [
        "#8.Use a lambda function in Python to sort a list of tuples based on the second element of each tuple.\n",
        "\n",
        "# Sample list of tuples\n",
        "data = [(1, 5), (3, 1), (2, 9), (4, 3)]\n",
        "\n",
        "# Sort based on 2nd element (index 1)\n",
        "sorted_data = sorted(data, key=lambda x: x[1])\n",
        "\n",
        "print(sorted_data)\n"
      ],
      "metadata": {
        "colab": {
          "base_uri": "https://localhost:8080/"
        },
        "id": "-ZEsbmmVyjU1",
        "outputId": "5a60a57d-d4ce-4f3a-a0aa-4604e6c7bd9a"
      },
      "execution_count": null,
      "outputs": [
        {
          "output_type": "stream",
          "name": "stdout",
          "text": [
            "[(3, 1), (4, 3), (1, 5), (2, 9)]\n"
          ]
        }
      ]
    },
    {
      "cell_type": "code",
      "source": [
        "#9.Write a Python program that uses `map()` to convert a list of temperatures from Celsius to Fahrenheit.\n",
        "\n",
        "# List of temperatures in Celsius\n",
        "celsius = [0, 20, 37, 100]\n",
        "\n",
        "# Convert to Fahrenheit using map() and lambda\n",
        "fahrenheit = list(map(lambda c: (c * 9/5) + 32, celsius))\n",
        "\n",
        "print(\"Celsius:\", celsius)\n",
        "print(\"Fahrenheit:\", fahrenheit)\n",
        "\n"
      ],
      "metadata": {
        "colab": {
          "base_uri": "https://localhost:8080/"
        },
        "id": "cO8msesby37u",
        "outputId": "f3944456-384d-4341-b05b-d48b6167dcfe"
      },
      "execution_count": null,
      "outputs": [
        {
          "output_type": "stream",
          "name": "stdout",
          "text": [
            "Celsius: [0, 20, 37, 100]\n",
            "Fahrenheit: [32.0, 68.0, 98.6, 212.0]\n"
          ]
        }
      ]
    },
    {
      "cell_type": "code",
      "source": [
        "#10.Create a Python program that uses `filter()` to remove all the vowels from a given string.\n",
        "\n",
        "text = \"Hello Python Programming\"\n",
        "vowels = \"aeiouAEIOU\"\n",
        "\n",
        "result = \"\".join(filter(lambda ch: ch not in vowels, text))\n",
        "\n",
        "print(result)\n",
        "\n"
      ],
      "metadata": {
        "colab": {
          "base_uri": "https://localhost:8080/"
        },
        "id": "Dyg0ErUsy8rA",
        "outputId": "26cb0563-da8e-42bf-9b5b-f549312fd6a6"
      },
      "execution_count": null,
      "outputs": [
        {
          "output_type": "stream",
          "name": "stdout",
          "text": [
            "Hll Pythn Prgrmmng\n"
          ]
        }
      ]
    },
    {
      "cell_type": "code",
      "source": [
        "#11.Write a Python program, which returns a list with 2-tuples. Each tuple consists of the order number and the\n",
        "#product of the price per item and the quantity. The product should be increased by 10,- € if the value of the\n",
        "#order is smaller than 100,00 €.\n",
        "\n",
        "#Write a Python program using lambda and map.\n",
        "\n",
        "orders = [\n",
        "    [34587, \"Learning Python, Mark Lutz\", 4, 40.95],\n",
        "    [98762, \"Programming Python, Mark Lutz\", 5, 56.80],\n",
        "    [77226, \"Head First Python, Paul Barry\", 3, 32.95],\n",
        "    [88112, \"Einführung in Python3, Bernd Klein\", 3, 24.99]\n",
        "]\n",
        "\n",
        "# Create list of 2-tuples (OrderNo, TotalAmount)\n",
        "result = list(map(lambda order:\n",
        "                  (order[0], order[2] * order[3] if order[2] * order[3] >= 100 else order[2] * order[3] + 10),\n",
        "                  orders))\n",
        "\n",
        "print(result)\n",
        "\n"
      ],
      "metadata": {
        "colab": {
          "base_uri": "https://localhost:8080/"
        },
        "id": "YYATgSZWzA6y",
        "outputId": "25289eb9-e3ad-4f46-ed4b-69dfdacac4c4"
      },
      "execution_count": null,
      "outputs": [
        {
          "output_type": "stream",
          "name": "stdout",
          "text": [
            "[(34587, 163.8), (98762, 284.0), (77226, 108.85000000000001), (88112, 84.97)]\n"
          ]
        }
      ]
    },
    {
      "cell_type": "code",
      "source": [],
      "metadata": {
        "id": "xH07BmnjzHBq"
      },
      "execution_count": null,
      "outputs": []
    }
  ]
}